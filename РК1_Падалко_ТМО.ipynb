{
 "cells": [
  {
   "cell_type": "markdown",
   "id": "1e3b24a9-d390-4307-9ee7-bfc55c6cc184",
   "metadata": {},
   "source": [
    "## Задача №3.\n",
    "Для заданного набора данных произведите масштабирование данных (для одного признака) и преобразование категориальных признаков в количественные двумя способами (label encoding, one hot encoding) для одного признака. Какие методы Вы использовали для решения задачи и почему?"
   ]
  },
  {
   "cell_type": "markdown",
   "id": "df3c95c7-da18-4d4a-b504-6f463c622ca6",
   "metadata": {},
   "source": [
    "### Доп.требование: для произвольной колонки данных построить график \"Скрипичная диаграмма (violin plot)\"."
   ]
  },
  {
   "cell_type": "code",
   "execution_count": 2,
   "id": "5029a08b-fab9-476b-98dd-ccc240d9d134",
   "metadata": {},
   "outputs": [],
   "source": [
    "import pandas as pd\n",
    "import numpy as np\n",
    "import seaborn as sns\n",
    "import matplotlib.pyplot as plt\n",
    "from sklearn.preprocessing import MinMaxScaler, StandardScaler, LabelEncoder, OneHotEncoder\n",
    "from sklearn.model_selection import train_test_split\n",
    "\n"
   ]
  },
  {
   "cell_type": "code",
   "execution_count": 3,
   "id": "83bf6b69-6f1a-492b-8cd5-5f5e32fba49e",
   "metadata": {},
   "outputs": [],
   "source": [
    "# 1. Загрузка данных\n",
    "df = pd.read_csv(\"googleplaystore.csv\")  # Укажите правильный путь к вашему файлу\n",
    "\n"
   ]
  },
  {
   "cell_type": "code",
   "execution_count": 4,
   "id": "55d8a64a-a8f8-4a08-abfc-5aa6551908bd",
   "metadata": {},
   "outputs": [
    {
     "data": {
      "text/html": [
       "<div>\n",
       "<style scoped>\n",
       "    .dataframe tbody tr th:only-of-type {\n",
       "        vertical-align: middle;\n",
       "    }\n",
       "\n",
       "    .dataframe tbody tr th {\n",
       "        vertical-align: top;\n",
       "    }\n",
       "\n",
       "    .dataframe thead th {\n",
       "        text-align: right;\n",
       "    }\n",
       "</style>\n",
       "<table border=\"1\" class=\"dataframe\">\n",
       "  <thead>\n",
       "    <tr style=\"text-align: right;\">\n",
       "      <th></th>\n",
       "      <th>App</th>\n",
       "      <th>Category</th>\n",
       "      <th>Rating</th>\n",
       "      <th>Reviews</th>\n",
       "      <th>Size</th>\n",
       "      <th>Installs</th>\n",
       "      <th>Type</th>\n",
       "      <th>Price</th>\n",
       "      <th>Content Rating</th>\n",
       "      <th>Genres</th>\n",
       "      <th>Last Updated</th>\n",
       "      <th>Current Ver</th>\n",
       "      <th>Android Ver</th>\n",
       "    </tr>\n",
       "  </thead>\n",
       "  <tbody>\n",
       "    <tr>\n",
       "      <th>0</th>\n",
       "      <td>Photo Editor &amp; Candy Camera &amp; Grid &amp; ScrapBook</td>\n",
       "      <td>ART_AND_DESIGN</td>\n",
       "      <td>4.1</td>\n",
       "      <td>159</td>\n",
       "      <td>19M</td>\n",
       "      <td>10,000+</td>\n",
       "      <td>Free</td>\n",
       "      <td>0</td>\n",
       "      <td>Everyone</td>\n",
       "      <td>Art &amp; Design</td>\n",
       "      <td>January 7, 2018</td>\n",
       "      <td>1.0.0</td>\n",
       "      <td>4.0.3 and up</td>\n",
       "    </tr>\n",
       "    <tr>\n",
       "      <th>1</th>\n",
       "      <td>Coloring book moana</td>\n",
       "      <td>ART_AND_DESIGN</td>\n",
       "      <td>3.9</td>\n",
       "      <td>967</td>\n",
       "      <td>14M</td>\n",
       "      <td>500,000+</td>\n",
       "      <td>Free</td>\n",
       "      <td>0</td>\n",
       "      <td>Everyone</td>\n",
       "      <td>Art &amp; Design;Pretend Play</td>\n",
       "      <td>January 15, 2018</td>\n",
       "      <td>2.0.0</td>\n",
       "      <td>4.0.3 and up</td>\n",
       "    </tr>\n",
       "    <tr>\n",
       "      <th>2</th>\n",
       "      <td>U Launcher Lite – FREE Live Cool Themes, Hide ...</td>\n",
       "      <td>ART_AND_DESIGN</td>\n",
       "      <td>4.7</td>\n",
       "      <td>87510</td>\n",
       "      <td>8.7M</td>\n",
       "      <td>5,000,000+</td>\n",
       "      <td>Free</td>\n",
       "      <td>0</td>\n",
       "      <td>Everyone</td>\n",
       "      <td>Art &amp; Design</td>\n",
       "      <td>August 1, 2018</td>\n",
       "      <td>1.2.4</td>\n",
       "      <td>4.0.3 and up</td>\n",
       "    </tr>\n",
       "    <tr>\n",
       "      <th>3</th>\n",
       "      <td>Sketch - Draw &amp; Paint</td>\n",
       "      <td>ART_AND_DESIGN</td>\n",
       "      <td>4.5</td>\n",
       "      <td>215644</td>\n",
       "      <td>25M</td>\n",
       "      <td>50,000,000+</td>\n",
       "      <td>Free</td>\n",
       "      <td>0</td>\n",
       "      <td>Teen</td>\n",
       "      <td>Art &amp; Design</td>\n",
       "      <td>June 8, 2018</td>\n",
       "      <td>Varies with device</td>\n",
       "      <td>4.2 and up</td>\n",
       "    </tr>\n",
       "    <tr>\n",
       "      <th>4</th>\n",
       "      <td>Pixel Draw - Number Art Coloring Book</td>\n",
       "      <td>ART_AND_DESIGN</td>\n",
       "      <td>4.3</td>\n",
       "      <td>967</td>\n",
       "      <td>2.8M</td>\n",
       "      <td>100,000+</td>\n",
       "      <td>Free</td>\n",
       "      <td>0</td>\n",
       "      <td>Everyone</td>\n",
       "      <td>Art &amp; Design;Creativity</td>\n",
       "      <td>June 20, 2018</td>\n",
       "      <td>1.1</td>\n",
       "      <td>4.4 and up</td>\n",
       "    </tr>\n",
       "  </tbody>\n",
       "</table>\n",
       "</div>"
      ],
      "text/plain": [
       "                                                 App        Category  Rating  \\\n",
       "0     Photo Editor & Candy Camera & Grid & ScrapBook  ART_AND_DESIGN     4.1   \n",
       "1                                Coloring book moana  ART_AND_DESIGN     3.9   \n",
       "2  U Launcher Lite – FREE Live Cool Themes, Hide ...  ART_AND_DESIGN     4.7   \n",
       "3                              Sketch - Draw & Paint  ART_AND_DESIGN     4.5   \n",
       "4              Pixel Draw - Number Art Coloring Book  ART_AND_DESIGN     4.3   \n",
       "\n",
       "  Reviews  Size     Installs  Type Price Content Rating  \\\n",
       "0     159   19M      10,000+  Free     0       Everyone   \n",
       "1     967   14M     500,000+  Free     0       Everyone   \n",
       "2   87510  8.7M   5,000,000+  Free     0       Everyone   \n",
       "3  215644   25M  50,000,000+  Free     0           Teen   \n",
       "4     967  2.8M     100,000+  Free     0       Everyone   \n",
       "\n",
       "                      Genres      Last Updated         Current Ver  \\\n",
       "0               Art & Design   January 7, 2018               1.0.0   \n",
       "1  Art & Design;Pretend Play  January 15, 2018               2.0.0   \n",
       "2               Art & Design    August 1, 2018               1.2.4   \n",
       "3               Art & Design      June 8, 2018  Varies with device   \n",
       "4    Art & Design;Creativity     June 20, 2018                 1.1   \n",
       "\n",
       "    Android Ver  \n",
       "0  4.0.3 and up  \n",
       "1  4.0.3 and up  \n",
       "2  4.0.3 and up  \n",
       "3    4.2 and up  \n",
       "4    4.4 and up  "
      ]
     },
     "execution_count": 4,
     "metadata": {},
     "output_type": "execute_result"
    }
   ],
   "source": [
    "# Вывод первых строк чтобы проверить структуру данных\n",
    "df.head()"
   ]
  },
  {
   "cell_type": "code",
   "execution_count": 5,
   "id": "9d785d97-66db-42c8-b1e9-f72334f6a8ed",
   "metadata": {},
   "outputs": [],
   "source": [
    "# 2. Предобработка (частичная, для примера)\n",
    "# Удаляем строки с пропущенными значениями (проще для примера, но в реальных задачах лучше заполнять)\n",
    "df.dropna(inplace=True)\n",
    "\n",
    "# Удаляем дубликаты\n",
    "df.drop_duplicates(subset=['App'], inplace=True)\n",
    "\n",
    "# Очистка данных в столбце Installs\n",
    "def clean_installs(installs):\n",
    "    installs = installs.replace('+', '').replace(',', '')\n",
    "    return int(installs)\n",
    "\n",
    "df['Installs'] = df['Installs'].apply(clean_installs)"
   ]
  },
  {
   "cell_type": "markdown",
   "id": "93ff2a7d-ba27-4ee0-a63c-23358e6b3f84",
   "metadata": {},
   "source": [
    "### 3. Violin Plot (для 'Rating')"
   ]
  },
  {
   "cell_type": "code",
   "execution_count": 6,
   "id": "46d5590d-66c6-4499-9301-27f03d799618",
   "metadata": {},
   "outputs": [
    {
     "data": {
      "image/png": "[encoded data removed]",
      "text/plain": [
       "<Figure size 800x600 with 1 Axes>"
      ]
     },
     "metadata": {},
     "output_type": "display_data"
    }
   ],
   "source": [
    "\n",
    "plt.figure(figsize=(8, 6))\n",
    "sns.violinplot(y=df['Rating'])  # Выбрано 'Rating' как числовая колонка\n",
    "plt.title('Violin Plot of App Rating')\n",
    "plt.ylabel('Rating')\n",
    "plt.show()"
   ]
  },
  {
   "cell_type": "code",
   "execution_count": 7,
   "id": "a34f2a01-7940-43df-bc01-8690bfab0876",
   "metadata": {},
   "outputs": [],
   "source": [
    "# 4. Масштабирование данных (для 'Installs')\n",
    "scaler = MinMaxScaler()  # Или StandardScaler, если данные распределены нормально\n",
    "df['Installs_Scaled'] = scaler.fit_transform(df[['Installs']])"
   ]
  },
  {
   "cell_type": "code",
   "execution_count": 8,
   "id": "908a32e8-75a9-4379-8bb4-654874cfbab2",
   "metadata": {},
   "outputs": [
    {
     "name": "stdout",
     "output_type": "stream",
     "text": [
      "Original Installs: 0       10000\n",
      "1      500000\n",
      "2     5000000\n",
      "3    50000000\n",
      "4      100000\n",
      "Name: Installs, dtype: int64\n",
      "Scaled Installs: 0    0.00001\n",
      "1    0.00050\n",
      "2    0.00500\n",
      "3    0.05000\n",
      "4    0.00010\n",
      "Name: Installs_Scaled, dtype: float64\n"
     ]
    }
   ],
   "source": [
    "# Посмотрим на результат масштабирования:\n",
    "print(\"Original Installs:\", df['Installs'].head())\n",
    "print(\"Scaled Installs:\", df['Installs_Scaled'].head())\n"
   ]
  },
  {
   "cell_type": "code",
   "execution_count": 9,
   "id": "f04b4e41-240e-4c27-b811-2d8c74d5ca2b",
   "metadata": {},
   "outputs": [],
   "source": [
    "# 5. Преобразование категориальных признаков в количественные\n",
    "# Выберем 'Category' для преобразования\n",
    "\n",
    "# a) Label Encoding\n",
    "label_encoder = LabelEncoder()\n",
    "df['Category_LabelEncoded'] = label_encoder.fit_transform(df['Category'])\n"
   ]
  },
  {
   "cell_type": "code",
   "execution_count": 10,
   "id": "a0e8b7b0-25ef-4c5f-a490-c577fa0740cc",
   "metadata": {},
   "outputs": [],
   "source": [
    "# b) One-Hot Encoding\n",
    "onehot_encoder = OneHotEncoder(sparse_output=False, handle_unknown='ignore') #sparse=False для numpy array, handle_unknown='ignore' чтобы избежать ошибок\n",
    "\n",
    "# Используем train_test_split для создания обучающего и тестового наборов\n",
    "X_train, X_test, y_train, y_test = train_test_split(df[['Category']], df['Rating'], test_size=0.2, random_state=42)"
   ]
  },
  {
   "cell_type": "code",
   "execution_count": 11,
   "id": "a03fcbae-6a56-4e56-840b-26d64ebc467c",
   "metadata": {},
   "outputs": [],
   "source": [
    "# Применяем one-hot encoding только к обучающему набору, чтобы избежать утечки данных\n",
    "onehot_encoder.fit(X_train[['Category']])\n",
    "\n",
    "# Преобразуем обучающий и тестовый наборы\n",
    "X_train_encoded = onehot_encoder.transform(X_train[['Category']])\n",
    "X_test_encoded = onehot_encoder.transform(X_test[['Category']])\n",
    "\n",
    "# Создаем DataFrame из закодированных данных\n",
    "df_onehot_train = pd.DataFrame(X_train_encoded, columns=onehot_encoder.get_feature_names_out(['Category']))\n",
    "df_onehot_test = pd.DataFrame(X_test_encoded, columns=onehot_encoder.get_feature_names_out(['Category']))\n",
    "\n",
    "# Сбрасываем индексы в X_train и X_test\n",
    "X_train = X_train.reset_index(drop=True)\n",
    "X_test = X_test.reset_index(drop=True)\n",
    "\n",
    "\n"
   ]
  },
  {
   "cell_type": "code",
   "execution_count": 12,
   "id": "896ab4b7-0a2e-4b5b-a2cd-a112f000caa8",
   "metadata": {},
   "outputs": [],
   "source": [
    "# Объединяем закодированные данные с исходными наборами\n",
    "X_train = pd.concat([X_train, df_onehot_train.set_index(X_train.index)], axis=1)\n",
    "X_test = pd.concat([X_test, df_onehot_test.set_index(X_test.index)], axis=1)"
   ]
  },
  {
   "cell_type": "code",
   "execution_count": 13,
   "id": "49553cc0-109d-4afc-834a-f5d315aa457d",
   "metadata": {},
   "outputs": [
    {
     "name": "stdout",
     "output_type": "stream",
     "text": [
      "Label Encoded Categories:          Category  Category_LabelEncoded\n",
      "0  ART_AND_DESIGN                      0\n",
      "1  ART_AND_DESIGN                      0\n",
      "2  ART_AND_DESIGN                      0\n",
      "3  ART_AND_DESIGN                      0\n",
      "4  ART_AND_DESIGN                      0\n",
      "One-Hot Encoded Categories Train:       Category  Category_ART_AND_DESIGN  Category_AUTO_AND_VEHICLES  \\\n",
      "0    LIFESTYLE                      0.0                         0.0   \n",
      "1  PHOTOGRAPHY                      0.0                         0.0   \n",
      "2     SHOPPING                      0.0                         0.0   \n",
      "3       FAMILY                      0.0                         0.0   \n",
      "4       DATING                      0.0                         0.0   \n",
      "\n",
      "   Category_BEAUTY  Category_BOOKS_AND_REFERENCE  Category_BUSINESS  \\\n",
      "0              0.0                           0.0                0.0   \n",
      "1              0.0                           0.0                0.0   \n",
      "2              0.0                           0.0                0.0   \n",
      "3              0.0                           0.0                0.0   \n",
      "4              0.0                           0.0                0.0   \n",
      "\n",
      "   Category_COMICS  Category_COMMUNICATION  Category_DATING  \\\n",
      "0              0.0                     0.0              0.0   \n",
      "1              0.0                     0.0              0.0   \n",
      "2              0.0                     0.0              0.0   \n",
      "3              0.0                     0.0              0.0   \n",
      "4              0.0                     0.0              1.0   \n",
      "\n",
      "   Category_EDUCATION  ...  Category_PERSONALIZATION  Category_PHOTOGRAPHY  \\\n",
      "0                 0.0  ...                       0.0                   0.0   \n",
      "1                 0.0  ...                       0.0                   1.0   \n",
      "2                 0.0  ...                       0.0                   0.0   \n",
      "3                 0.0  ...                       0.0                   0.0   \n",
      "4                 0.0  ...                       0.0                   0.0   \n",
      "\n",
      "   Category_PRODUCTIVITY  Category_SHOPPING  Category_SOCIAL  Category_SPORTS  \\\n",
      "0                    0.0                0.0              0.0              0.0   \n",
      "1                    0.0                0.0              0.0              0.0   \n",
      "2                    0.0                1.0              0.0              0.0   \n",
      "3                    0.0                0.0              0.0              0.0   \n",
      "4                    0.0                0.0              0.0              0.0   \n",
      "\n",
      "   Category_TOOLS  Category_TRAVEL_AND_LOCAL  Category_VIDEO_PLAYERS  \\\n",
      "0             0.0                        0.0                     0.0   \n",
      "1             0.0                        0.0                     0.0   \n",
      "2             0.0                        0.0                     0.0   \n",
      "3             0.0                        0.0                     0.0   \n",
      "4             0.0                        0.0                     0.0   \n",
      "\n",
      "   Category_WEATHER  \n",
      "0               0.0  \n",
      "1               0.0  \n",
      "2               0.0  \n",
      "3               0.0  \n",
      "4               0.0  \n",
      "\n",
      "[5 rows x 34 columns]\n",
      "One-Hot Encoded Categories Test:         Category  Category_ART_AND_DESIGN  Category_AUTO_AND_VEHICLES  \\\n",
      "0    PHOTOGRAPHY                      0.0                         0.0   \n",
      "1         FAMILY                      0.0                         0.0   \n",
      "2          TOOLS                      0.0                         0.0   \n",
      "3  VIDEO_PLAYERS                      0.0                         0.0   \n",
      "4           GAME                      0.0                         0.0   \n",
      "\n",
      "   Category_BEAUTY  Category_BOOKS_AND_REFERENCE  Category_BUSINESS  \\\n",
      "0              0.0                           0.0                0.0   \n",
      "1              0.0                           0.0                0.0   \n",
      "2              0.0                           0.0                0.0   \n",
      "3              0.0                           0.0                0.0   \n",
      "4              0.0                           0.0                0.0   \n",
      "\n",
      "   Category_COMICS  Category_COMMUNICATION  Category_DATING  \\\n",
      "0              0.0                     0.0              0.0   \n",
      "1              0.0                     0.0              0.0   \n",
      "2              0.0                     0.0              0.0   \n",
      "3              0.0                     0.0              0.0   \n",
      "4              0.0                     0.0              0.0   \n",
      "\n",
      "   Category_EDUCATION  ...  Category_PERSONALIZATION  Category_PHOTOGRAPHY  \\\n",
      "0                 0.0  ...                       0.0                   1.0   \n",
      "1                 0.0  ...                       0.0                   0.0   \n",
      "2                 0.0  ...                       0.0                   0.0   \n",
      "3                 0.0  ...                       0.0                   0.0   \n",
      "4                 0.0  ...                       0.0                   0.0   \n",
      "\n",
      "   Category_PRODUCTIVITY  Category_SHOPPING  Category_SOCIAL  Category_SPORTS  \\\n",
      "0                    0.0                0.0              0.0              0.0   \n",
      "1                    0.0                0.0              0.0              0.0   \n",
      "2                    0.0                0.0              0.0              0.0   \n",
      "3                    0.0                0.0              0.0              0.0   \n",
      "4                    0.0                0.0              0.0              0.0   \n",
      "\n",
      "   Category_TOOLS  Category_TRAVEL_AND_LOCAL  Category_VIDEO_PLAYERS  \\\n",
      "0             0.0                        0.0                     0.0   \n",
      "1             0.0                        0.0                     0.0   \n",
      "2             1.0                        0.0                     0.0   \n",
      "3             0.0                        0.0                     1.0   \n",
      "4             0.0                        0.0                     0.0   \n",
      "\n",
      "   Category_WEATHER  \n",
      "0               0.0  \n",
      "1               0.0  \n",
      "2               0.0  \n",
      "3               0.0  \n",
      "4               0.0  \n",
      "\n",
      "[5 rows x 34 columns]\n"
     ]
    }
   ],
   "source": [
    "# Выводим первые строки обработанных данных\n",
    "print(\"Label Encoded Categories:\", df[['Category', 'Category_LabelEncoded']].head())\n",
    "print(\"One-Hot Encoded Categories Train:\", X_train.head())\n",
    "print(\"One-Hot Encoded Categories Test:\", X_test.head())\n"
   ]
  },
  {
   "cell_type": "markdown",
   "id": "76b710ff-6c19-4f60-87c0-776c13b00b74",
   "metadata": {},
   "source": [
    "# 6. Обоснование выбора методов:\n"
   ]
  },
  {
   "cell_type": "code",
   "execution_count": 14,
   "id": "7ad32313-7e90-4847-9042-91e560ee3639",
   "metadata": {},
   "outputs": [
    {
     "name": "stdout",
     "output_type": "stream",
     "text": [
      "\n",
      "Обоснование выбора методов:\n",
      "1. Violin Plot:  Используется для визуализации распределения числовых данных. Показывает медиану, квартили и плотность распределения, что полезно для понимания формы распределения 'Rating'.\n",
      "2. MinMaxScaler:  Использован для масштабирования 'Installs' в диапазон [0, 1]. Подходит, когда важно сохранить отношения между значениями, и нет выбросов, сильно влияющих на результат. StandardScaler был бы лучше, если бы были выбросы и данные были бы распределены нормально.\n",
      "3. Label Encoding:  Преобразует 'Category' в числовые метки. Просто в реализации, но вносит искусственный порядок между категориями, что может быть нежелательно для алгоритмов, чувствительных к порядку (например, линейные модели).\n",
      "4. One-Hot Encoding:  Создает отдельные бинарные столбцы для каждой категории в 'Category'.  Не вносит искусственный порядок, подходит для большинства алгоритмов машинного обучения.  Однако, увеличивает размерность данных, особенно если категорий много.\n"
     ]
    }
   ],
   "source": [
    "print(\"\\nОбоснование выбора методов:\")\n",
    "print(\"1. Violin Plot:  Используется для визуализации распределения числовых данных. Показывает медиану, квартили и плотность распределения, что полезно для понимания формы распределения 'Rating'.\")\n",
    "print(\"2. MinMaxScaler:  Использован для масштабирования 'Installs' в диапазон [0, 1]. Подходит, когда важно сохранить отношения между значениями, и нет выбросов, сильно влияющих на результат. StandardScaler был бы лучше, если бы были выбросы и данные были бы распределены нормально.\")\n",
    "print(\"3. Label Encoding:  Преобразует 'Category' в числовые метки. Просто в реализации, но вносит искусственный порядок между категориями, что может быть нежелательно для алгоритмов, чувствительных к порядку (например, линейные модели).\")\n",
    "print(\"4. One-Hot Encoding:  Создает отдельные бинарные столбцы для каждой категории в 'Category'.  Не вносит искусственный порядок, подходит для большинства алгоритмов машинного обучения.  Однако, увеличивает размерность данных, особенно если категорий много.\")"
   ]
  }
 ],
 "metadata": {
  "kernelspec": {
   "display_name": "Python 3",
   "language": "python",
   "name": "python3"
  },
  "language_info": {
   "codemirror_mode": {
    "name": "ipython",
    "version": 3
   },
   "file_extension": ".py",
   "mimetype": "text/x-python",
   "name": "python",
   "nbconvert_exporter": "python",
   "pygments_lexer": "ipython3",
   "version": "3.9.11"
  }
 },
 "nbformat": 4,
 "nbformat_minor": 5
}
